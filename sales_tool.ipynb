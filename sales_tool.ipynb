{
 "cells": [
  {
   "cell_type": "code",
   "execution_count": 10,
   "id": "156658e1",
   "metadata": {},
   "outputs": [
    {
     "name": "stdout",
     "output_type": "stream",
     "text": [
      "         Date      Item  Quantity  Price\n",
      "0  2025-01-05       Pen        10      5\n",
      "1  2025-01-12  Notebook         4     30\n",
      "2  2025-01-15    Pencil        15      3\n",
      "3  2025-02-03       Pen        12      5\n",
      "4  2025-02-10  Notebook         6     30\n",
      "5  2025-02-17    Eraser        20      2\n",
      "6  2025-03-01    Marker         5     25\n",
      "7  2025-03-07       Pen         8      5\n",
      "8  2025-03-15    Pencil        10      3\n",
      "9  2025-03-28  Notebook         3     30\n",
      "10 2025-04-02       Pen        14      5\n",
      "11 2025-04-09    Eraser        18      2\n",
      "12 2025-04-20    Pencil        25      3\n",
      "13 2025-04-29    Marker         6     25\n"
     ]
    }
   ],
   "source": [
    "import pandas as pd\n",
    "df=pd.read_csv('sales.csv', parse_dates=[\"Date\"],dayfirst=True)\n",
    "print(df)"
   ]
  },
  {
   "cell_type": "code",
   "execution_count": 12,
   "id": "fe2c9bf6",
   "metadata": {},
   "outputs": [
    {
     "name": "stdout",
     "output_type": "stream",
     "text": [
      "📊 Monthly Summary:\n",
      "     Month  Quantity  revenue\n",
      "0  2025-01        29      215\n",
      "1  2025-02        38      280\n",
      "2  2025-03        26      285\n",
      "3  2025-04        63      331\n"
     ]
    }
   ],
   "source": [
    "\n",
    "df['Month'] = df['Date'].dt.to_period('M')\n",
    "df['revenue'] = df['Quantity'] * df['Price']\n",
    "\n",
    "monthly_summary = df.groupby('Month').agg({\n",
    "    'Quantity': 'sum',\n",
    "    'revenue': 'sum'\n",
    "}).reset_index()\n",
    "\n",
    "print(\"📊 Monthly Summary:\")\n",
    "print(monthly_summary)\n"
   ]
  },
  {
   "cell_type": "code",
   "execution_count": 16,
   "id": "b565db8e",
   "metadata": {},
   "outputs": [
    {
     "name": "stdout",
     "output_type": "stream",
     "text": [
      "\n",
      " Total Quantity Sold by Item: Item\n",
      "Eraser      38\n",
      "Marker      11\n",
      "Notebook    13\n",
      "Pen         44\n",
      "Pencil      50\n",
      "Name: Quantity, dtype: int64\n",
      "\n",
      " Item with Maximum Quantity Sold: Pencil (50 units)\n"
     ]
    }
   ],
   "source": [
    "item=df.groupby('Item')['Quantity'].sum()\n",
    "print(\"\\n Total Quantity Sold by Item:\", item)\n",
    "max_sold_item=item.idxmax()\n",
    "max_quantity_item=item.max()\n",
    "\n",
    "print(f\"\\n Item with Maximum Quantity Sold: {max_sold_item} ({max_quantity_item} units)\")"
   ]
  },
  {
   "cell_type": "code",
   "execution_count": 19,
   "id": "25beee0f",
   "metadata": {},
   "outputs": [
    {
     "name": "stdout",
     "output_type": "stream",
     "text": [
      "\n",
      " Total Quantity Sold by Item: Item\n",
      "Eraser      38\n",
      "Marker      11\n",
      "Notebook    13\n",
      "Pen         44\n",
      "Pencil      50\n",
      "Name: Quantity, dtype: int64\n",
      "\n",
      " Item with Minimum Quantity Sold: Marker (11 units)\n"
     ]
    }
   ],
   "source": [
    "item=df.groupby('Item')['Quantity'].sum()\n",
    "print(\"\\n Total Quantity Sold by Item:\", item)\n",
    "min_sold_item=item.idxmin()\n",
    "min_quantity_item=item.min()\n",
    "\n",
    "print(f\"\\n Item with Minimum Quantity Sold: {min_sold_item} ({min_quantity_item} units)\")"
   ]
  },
  {
   "cell_type": "code",
   "execution_count": 28,
   "id": "d7b82897",
   "metadata": {},
   "outputs": [
    {
     "name": "stdout",
     "output_type": "stream",
     "text": [
      "\n",
      "💰 Total Revenue: ₹1111.00\n"
     ]
    }
   ],
   "source": [
    "\n",
    "total_revenue = df['revenue'].sum()\n",
    "print(f\"\\n💰 Total Revenue: ₹{total_revenue:.2f}\")\n"
   ]
  },
  {
   "cell_type": "code",
   "execution_count": 32,
   "id": "24c1dbf7",
   "metadata": {},
   "outputs": [
    {
     "name": "stdout",
     "output_type": "stream",
     "text": [
      "\n",
      "💰 Average Revenue per Sale: ₹79.36\n"
     ]
    }
   ],
   "source": [
    "avg=df['revenue'].mean()\n",
    "print(f\"\\n💰 Average Revenue per Sale: ₹{avg:.2f}\")"
   ]
  },
  {
   "cell_type": "code",
   "execution_count": 33,
   "id": "7c381aa9",
   "metadata": {},
   "outputs": [
    {
     "name": "stdout",
     "output_type": "stream",
     "text": [
      "Item\n",
      "Eraser       38.0\n",
      "Marker      137.5\n",
      "Notebook    130.0\n",
      "Pen          55.0\n",
      "Pencil       50.0\n",
      "Name: revenue, dtype: float64\n"
     ]
    }
   ],
   "source": [
    "average_revenue_per_item = df.groupby('Item')['revenue'].mean()\n",
    "print(average_revenue_per_item)"
   ]
  }
 ],
 "metadata": {
  "kernelspec": {
   "display_name": "Python 3",
   "language": "python",
   "name": "python3"
  },
  "language_info": {
   "codemirror_mode": {
    "name": "ipython",
    "version": 3
   },
   "file_extension": ".py",
   "mimetype": "text/x-python",
   "name": "python",
   "nbconvert_exporter": "python",
   "pygments_lexer": "ipython3",
   "version": "3.12.6"
  }
 },
 "nbformat": 4,
 "nbformat_minor": 5
}
